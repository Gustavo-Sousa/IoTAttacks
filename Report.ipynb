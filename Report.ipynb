{
 "cells": [
  {
   "cell_type": "markdown",
   "metadata": {},
   "source": [
    "# Introdução\n",
    "\n",
    "O dataset foi obtido no [Kaagle](https://www.kaggle.com/jmessiasalves/ufpi-ncad-iot-attacks) e é sobre ataques em redes IoT. \n",
    "\n",
    "## Questões interessantes para serem analisadas no dataset\n",
    "\n",
    " - Analisar como os ataques funcionam.\n",
    " - Entender o comportamento.\n",
    " - Prever ataques.\n",
    " - Analisar possíveis correlações não exploradas.\n",
    " \n",
    "### Equipe\n",
    " - Igor Melo\n",
    " - Jarélio Filho\n",
    " - Leyberson Assunção\n",
    " - Gustavo Mota\n",
    " - Eduardo Linhares"
   ]
  },
  {
   "cell_type": "markdown",
   "metadata": {},
   "source": [
    "# 1 - Conhecendo os dados\n",
    "# 1.1 - Leitura dos dados"
   ]
  },
  {
   "cell_type": "code",
   "execution_count": 1,
   "metadata": {},
   "outputs": [],
   "source": [
    "import pandas as pd\n",
    "import numpy as np\n",
    "import matplotlib.pyplot as plt\n",
    "import missingno\n",
    "import os\n",
    "\n",
    "%matplotlib inline"
   ]
  },
  {
   "cell_type": "code",
   "execution_count": 2,
   "metadata": {},
   "outputs": [
    {
     "name": "stderr",
     "output_type": "stream",
     "text": [
      "'unzip' nÆo ‚ reconhecido como um comando interno\n",
      "ou externo, um programa oper vel ou um arquivo em lotes.\n"
     ]
    }
   ],
   "source": [
    "if 'UFPI-NCAD-IoT-Attacks-all-v1.csv' not in os.listdir():\n",
    "    !unzip 578734_1047033_bundle_archive.zip"
   ]
  },
  {
   "cell_type": "code",
   "execution_count": null,
   "metadata": {},
   "outputs": [],
   "source": [
    "df_description = pd.read_csv('UFPI-NCAD-IoT-Attacks-all-v1-Description.txt', sep='|')\n",
    "# pd.read_csv('UFPI-NCAD-IoT-Attacks-all-v1.csv', sep=';')\n",
    "\n",
    "# There is two actual ways to read the dataset\n",
    "path = 'UFPI-NCAD-IoT-Attacks-all-v1.csv'\n",
    "df_target = pd.read_csv(path, sep=';', low_memory=False)\n",
    "#df_target = pd.read_csv(path,sep=';', engine='python')"
   ]
  },
  {
   "cell_type": "markdown",
   "metadata": {},
   "source": [
    "# 1.2 - Análise Inicial\n",
    "Aqui observamos pela primeira vez os dados e identificamos:\n",
    "\n",
    "- O que significam os dados armazenados\n",
    "- Os tipos dos dados\n",
    "- Volume de dados NaNs\n",
    "- Problema no dataset"
   ]
  },
  {
   "cell_type": "code",
   "execution_count": null,
   "metadata": {},
   "outputs": [],
   "source": [
    "df_description"
   ]
  },
  {
   "cell_type": "code",
   "execution_count": null,
   "metadata": {
    "tags": []
   },
   "outputs": [],
   "source": [
    "df_target.info()"
   ]
  },
  {
   "cell_type": "code",
   "execution_count": null,
   "metadata": {
    "scrolled": true
   },
   "outputs": [],
   "source": [
    "df_target"
   ]
  },
  {
   "cell_type": "code",
   "execution_count": null,
   "metadata": {},
   "outputs": [],
   "source": [
    "miss = missingno.bar(df_target)"
   ]
  },
  {
   "cell_type": "code",
   "execution_count": null,
   "metadata": {},
   "outputs": [],
   "source": [
    "df_target.label.value_counts()"
   ]
  },
  {
   "cell_type": "markdown",
   "metadata": {},
   "source": [
    "# 1.3 - Resolvendo o problema de transposição de colunas\n",
    "\n",
    "Identificamos que o problema é que são dois datasets juntos em que o segundo não possui duas das colunas do primeiro. Há um cabeçalho em uma linha específica. Dividimos os dois, concatenamos e refazemos a última análise.\n",
    "\n",
    "Na próxima célula, percebemos uma linha que contém um novo cabeçalho. Esta é a linha que começa o segundo dataset. Na duas células seguintes, perceberá\n",
    "\n",
    "&nbsp; &nbsp; 1. Um shift dos valores das colunas.\n",
    "\n",
    "&nbsp; &nbsp; 2. A contagem de valores na coluna ipv6.src mostrando a diferença entre os valores existentes. Além disso há uma mudança no padrão dos elementos nessa coluna. Um endereço ipv6 não tem as caracteristicas dos apresentados no final do output. Na verdade, os valores ao final são característicos de outro tipo de endereço."
   ]
  },
  {
   "cell_type": "code",
   "execution_count": null,
   "metadata": {},
   "outputs": [],
   "source": [
    "df_target[df_target['frame.time_delta'] == 'frame.time_delta']"
   ]
  },
  {
   "cell_type": "code",
   "execution_count": null,
   "metadata": {},
   "outputs": [],
   "source": [
    "df_target[['frame.time_delta', 'frame.time_epoch', 'frame.time_relative']]"
   ]
  },
  {
   "cell_type": "code",
   "execution_count": null,
   "metadata": {},
   "outputs": [],
   "source": [
    "df_target['ipv6.src'].value_counts()"
   ]
  },
  {
   "cell_type": "markdown",
   "metadata": {},
   "source": [
    "## 1.3.1 Como nossa correção funciona\n",
    "Primeiro, gravamos o primeiro dataset separadamente em um arquivo. Em seguida, repetimos o processo para o segundo dataset. Por fim, fazemos a leitura dos dois e concatenamos. \n",
    "\n",
    "As duas células abaixo são respectivamente a separação e escrita dos datasets e a leitura e concatenação. Caso você já tenha os datasets separados, pode executar apenas a célula seguinte.\n"
   ]
  },
  {
   "cell_type": "code",
   "execution_count": null,
   "metadata": {},
   "outputs": [],
   "source": [
    "# Spliting and Writing\n",
    "df_target.iloc[:670052].to_csv('first_dataset.csv', index = False)\n",
    "df_target.iloc[670052:].drop(columns=['mqtt.willtopic', 'label'], axis=0).to_csv('second_dataset.csv', header=False, index=False)\n",
    "del df_target"
   ]
  },
  {
   "cell_type": "code",
   "execution_count": null,
   "metadata": {},
   "outputs": [],
   "source": [
    "# Reading and concatenating splited data\n",
    "df = pd.read_csv('first_dataset.csv', low_memory=False)\n",
    "df_= pd.read_csv('second_dataset.csv', low_memory=False)\n",
    "\n",
    "df_concat = pd.concat([df, df_])"
   ]
  },
  {
   "cell_type": "markdown",
   "metadata": {},
   "source": [
    "Nas três células abaixo certificamos a correção pela atualização do gráfico de missing values para verificar os valores mais apurados, contamos novamente os ataques por labels e observamos o dataset corrigido."
   ]
  },
  {
   "cell_type": "code",
   "execution_count": null,
   "metadata": {},
   "outputs": [],
   "source": [
    "missingno.bar(df_concat)"
   ]
  },
  {
   "cell_type": "code",
   "execution_count": null,
   "metadata": {},
   "outputs": [],
   "source": [
    "df_concat[\"label\"].value_counts()"
   ]
  },
  {
   "cell_type": "code",
   "execution_count": null,
   "metadata": {},
   "outputs": [],
   "source": [
    "df_concat"
   ]
  },
  {
   "cell_type": "markdown",
   "metadata": {
    "colab": {
     "base_uri": "https://localhost:8080/",
     "height": 74
    },
    "colab_type": "code",
    "id": "qLYvYlHlFisO",
    "outputId": "d9eaf24b-ce9f-4e1e-f44a-bcd0bcfee912"
   },
   "source": [
    "# 2 - De volta para a análise de dados\n",
    "Aqui analisamos as correlações, exploramos a proporção de valores NaN no data set para futuras implicações e possíveis reparações de dados e algumas análises básicas."
   ]
  },
  {
   "cell_type": "markdown",
   "metadata": {},
   "source": [
    "# 2.1 Correlações"
   ]
  },
  {
   "cell_type": "markdown",
   "metadata": {},
   "source": [
    "Nas três células abaixo, geramos e exibimos as matrizes de correlação. Porém, as matrizes valem para correlações lineares."
   ]
  },
  {
   "cell_type": "code",
   "execution_count": null,
   "metadata": {
    "colab": {},
    "colab_type": "code",
    "id": "D_LNBa2ONcmr"
   },
   "outputs": [],
   "source": [
    "correOne = first_dataset.corr()\n",
    "correTwo = second_dataset.corr()"
   ]
  },
  {
   "cell_type": "code",
   "execution_count": null,
   "metadata": {
    "colab": {
     "base_uri": "https://localhost:8080/",
     "height": 300
    },
    "colab_type": "code",
    "id": "9eaFYfOcRM7j",
    "outputId": "d3c31028-84a9-45cd-9c63-3a1391794e8e"
   },
   "outputs": [],
   "source": [
    "correOne"
   ]
  },
  {
   "cell_type": "code",
   "execution_count": null,
   "metadata": {
    "colab": {
     "base_uri": "https://localhost:8080/",
     "height": 300
    },
    "colab_type": "code",
    "id": "IqE_3lnFkvrV",
    "outputId": "90ae826a-67c2-43cb-833e-8d3b5a97e1ef"
   },
   "outputs": [],
   "source": [
    "corre_final = df_concat.corr()\n",
    "corre_final"
   ]
  },
  {
   "cell_type": "markdown",
   "metadata": {},
   "source": [
    "## Conclusões das correlações identificadas: \n",
    "- A matriz de correlações do dataset final ficou menor. \n",
    "- Vamos identificar posteriormente a proporção de NaNs em relação à quantidade de valores válidos. Os valores de NaNs importam para a identificação de um ataque, porque caracteristicamente nem todas as informações podem sequer existir."
   ]
  },
  {
   "cell_type": "markdown",
   "metadata": {},
   "source": [
    "# 2.1.1 Matrix de correlações"
   ]
  },
  {
   "cell_type": "markdown",
   "metadata": {},
   "source": [
    "As correlações anteriores são lineraes, mas provavelmente correlações quadráticas, por exemplo, não seriam identificadas. Abaixo há um heatmap e uma matrix de correlações que nos mostra, scartterplots para identificar mais correlações possíveis."
   ]
  },
  {
   "cell_type": "code",
   "execution_count": null,
   "metadata": {},
   "outputs": [],
   "source": [
    "corr = df.corr()\n",
    "corr.dropna(how='all', inplace=True)\n",
    "corr.dropna(how='all', axis=1, inplace=True)\n",
    "corr.style.background_gradient(cmap='Blues')"
   ]
  },
  {
   "cell_type": "code",
   "execution_count": null,
   "metadata": {},
   "outputs": [],
   "source": [
    "corr = df.corr()\n",
    "corr.dropna(how='all', inplace=True)\n",
    "corr.dropna(how='all', axis=1, inplace=True)\n",
    "corr.style.background_gradient(cmap='Blues')"
   ]
  },
  {
   "cell_type": "code",
   "execution_count": null,
   "metadata": {},
   "outputs": [],
   "source": [
    "sns.pairplot(df.drop(columns = ['mqtt.willmsg']))"
   ]
  },
  {
   "cell_type": "code",
   "execution_count": null,
   "metadata": {},
   "outputs": [],
   "source": []
  },
  {
   "cell_type": "markdown",
   "metadata": {},
   "source": [
    "Conclusões da matrix: "
   ]
  },
  {
   "cell_type": "markdown",
   "metadata": {},
   "source": [
    "## 2.1.2 Análises dos NaN\n",
    "\n",
    "A contagem de NaNs é importante para a análise dos ataques. Nas duas céulas abaixo há uma função para contagem absoluta de NaNs e a contagem para o primeiro, o segundo e o dataset final."
   ]
  },
  {
   "cell_type": "code",
   "execution_count": null,
   "metadata": {
    "colab": {
     "base_uri": "https://localhost:8080/",
     "height": 568
    },
    "colab_type": "code",
    "id": "6_jpJw_DTYIV",
    "outputId": "ef6c178e-2fb1-452b-d51c-5d9700ab3090"
   },
   "outputs": [],
   "source": [
    "def nan_counter(dataframe): # Counts the values of NaN\n",
    "  nan_counts = {}\n",
    "  for column in dataframe.columns:\n",
    "    nan_counts[column] = dict(dataframe[column].isna().value_counts())\n",
    "  return nan_counts\n",
    "\n",
    "nan_counter(df_concat)"
   ]
  },
  {
   "cell_type": "code",
   "execution_count": null,
   "metadata": {},
   "outputs": [],
   "source": [
    "nan_first = nan_counter(first_dataset)\n",
    "nan_second = nan_counter(second_dataset)\n",
    "\n",
    "nan_final = nan_counter(df_concat)"
   ]
  },
  {
   "cell_type": "markdown",
   "metadata": {},
   "source": [
    "O seguinte gráfico de barras "
   ]
  },
  {
   "cell_type": "code",
   "execution_count": null,
   "metadata": {
    "colab": {
     "base_uri": "https://localhost:8080/",
     "height": 384
    },
    "colab_type": "code",
    "id": "1TXLC58DnvQ_",
    "outputId": "24669999-4b68-4753-d704-4b18b73b9d72"
   },
   "outputs": [],
   "source": [
    "# Barplot NaN\n",
    "\n",
    "def plot_doublebar(dicte):\n",
    "  grupos = len(dicte)\n",
    "  \n",
    "  false = [value['False'] for value in dicte.values()]\n",
    "  true = [value['True'] for value in dicte.values()]\n",
    "  fig, ax = plt.subplots()\n",
    "  indice = np.arange(grupos)\n",
    "  bar_larg = 0.4\n",
    "  transp = 0.7\n",
    "  plt.bar(indice, false, bar_larg, alpha=transp, label='Value')\n",
    "  plt.bar(indice + bar_larg, true, bar_larg, alpha=transp, label='NaN')\n",
    "\n",
    "  plt.xlabel('Type') \n",
    "  plt.ylabel('Count') \n",
    "  plt.title('Values and NaN count per type') \n",
    "  plt.xticks(indice + bar_larg, (list(dicte.keys())), rotation=80)\n",
    "  plt.legend() \n",
    "  #plt.tight_layout() \n",
    "  plt.show()\n",
    "\n",
    "plot_doublebar(nan_final)"
   ]
  },
  {
   "cell_type": "markdown",
   "metadata": {},
   "source": [
    "Acima vemos novamente a proporção de NaNs comparado com a de valores existentes. \n",
    "\n",
    "mqtt.msg e mqtt.topic podem ter valor nenhum e ser um indício de ataques como: bruteforce e mitm, que somente se utilizam de mensagens de controle e conexão na rede, não contendo o conteúdo que um dispositivo padrão de uma rede IoT prôve ao broker. podemos fazer uma classificação nas mensagens de mqtt.msg para classfificá-la em ataques e não ataques fazendo análise das substrings. \n",
    "\n",
    "Os valores NaN podem ser causados por ataque. Portanto, podemos relacionar com mqtt.topic e trabalhar em uma predição como veremos mais adiante."
   ]
  },
  {
   "cell_type": "code",
   "execution_count": null,
   "metadata": {
    "colab": {
     "base_uri": "https://localhost:8080/",
     "height": 329
    },
    "colab_type": "code",
    "id": "U_iIrFGdgr_O",
    "outputId": "dade40e3-7268-4fe3-f63c-625431e6f001"
   },
   "outputs": [],
   "source": [
    "# Padrão esquisito\n",
    "dstport = np.array(df_concat['tcp.dstport'].isna())\n",
    "srcport = np.array(df_concat['tcp.srcport'].isna())\n",
    "\n",
    "comparisson = np.where(dstport == srcport, dstport, srcport)\n",
    "\n",
    "true_corr = np.count_nonzero(comparisson == True)\n",
    "false_corr = np.count_nonzero(comparisson == False)\n",
    "\n",
    "# False and true counts of dstport and srcport\n",
    "tc_dst = np.count_nonzero(dstport == True)\n",
    "tc_src = np.count_nonzero(srcport == True)\n",
    "fc_dst = np.count_nonzero(dstport == False)\n",
    "fc_src = np.count_nonzero(srcport == False)\n",
    "\n",
    "print('Comparisson true:', true_corr,\n",
    "      '\\nComparisson false:', false_corr,\n",
    "      '\\ndstport true:', tc_dst,\n",
    "      '\\ndstport false:', fc_dst,\n",
    "      '\\nsrcport true:', tc_src,\n",
    "      '\\nsrcport false:', fc_src,\n",
    "      '\\nsize dstport:', len(dstport),\n",
    "      '\\nsize srcport:', len(srcport),\n",
    "      '\\nproportion comparisson both:', true_corr/false_corr,\n",
    "      '\\nproportion dstport both:', tc_dst/fc_dst,\n",
    "      '\\nproportion srcport both:', tc_src/fc_src,\n",
    "      '\\nproportion comparisson true:', true_corr/len(comparisson),\n",
    "      '\\nproportion comparisson false:', false_corr/len(comparisson),\n",
    "      '\\npropotion dstport true:', tc_dst/len(dstport),\n",
    "      '\\npropotion dstport false:', fc_dst/len(dstport),\n",
    "      '\\npropotion srcport true:', tc_src/len(srcport),\n",
    "      '\\npropotion srcport false:', fc_src/len(srcport)\n",
    ")"
   ]
  },
  {
   "cell_type": "markdown",
   "metadata": {
    "colab_type": "text",
    "id": "2fx1PDkxt69b"
   },
   "source": [
    "As colunas dstport e srcport, respectivamente, corresponde a porta de destino do pacote e a porta de saída do pacote. \n",
    "\n",
    "Existe uma forte correlação entre a porta de destino e a porta de saída como observado na matrix de correlações: -0.956167. Isso se deve ao fato de que comunicação em rede é feita de maneira padronizada com a mesma porta baixa sendo usada pelo broker e portas altas sendo usadas pelos dispostivos.\n",
    "\n",
    "Nós encontramos 62507 tuplas com valores NaN, isto se iguala à quantidade de valores NaN nas colunas srcport e dstport. \n",
    "\n",
    "Também percebemos que existem poucas tuplas com essas mesmas colunas NaN. Mas também suficientes para usarmos um algoritmo treinado e predizermos os valores faltantes."
   ]
  },
  {
   "cell_type": "code",
   "execution_count": null,
   "metadata": {},
   "outputs": [],
   "source": [
    "# Adaptar para mqtt.msg mqtt.topic\n",
    "dstport = np.array(df_concat['mqtt.msg'].isna())\n",
    "srcport = np.array(df_concat['mqtt.topic'].isna())\n",
    "\n",
    "comparisson = np.where(dstport == srcport, dstport, srcport)\n",
    "\n",
    "true_corr = np.count_nonzero(comparisson == True)\n",
    "false_corr = np.count_nonzero(comparisson == False)\n",
    "\n",
    "# False and true counts of dstport and srcport\n",
    "tc_dst = np.count_nonzero(dstport == True)\n",
    "tc_src = np.count_nonzero(srcport == True)\n",
    "fc_dst = np.count_nonzero(dstport == False)\n",
    "fc_src = np.count_nonzero(srcport == False)\n",
    "\n",
    "print('Comparisson true:', true_corr,\n",
    "      '\\nComparisson false:', false_corr,\n",
    "      '\\ndstport true:', tc_dst,\n",
    "      '\\ndstport false:', fc_dst,\n",
    "      '\\nsrcport true:', tc_src,\n",
    "      '\\nsrcport false:', fc_src,\n",
    "      '\\nsize dstport:', len(dstport),\n",
    "      '\\nsize srcport:', len(srcport),\n",
    "      '\\nproportion comparisson both:', true_corr/false_corr,\n",
    "      '\\nproportion dstport both:', tc_dst/fc_dst,\n",
    "      '\\nproportion srcport both:', tc_src/fc_src,\n",
    "      '\\nproportion comparisson true:', true_corr/len(comparisson),\n",
    "      '\\nproportion comparisson false:', false_corr/len(comparisson),\n",
    "      '\\npropotion dstport true:', tc_dst/len(dstport),\n",
    "      '\\npropotion dstport false:', fc_dst/len(dstport),\n",
    "      '\\npropotion srcport true:', tc_src/len(srcport),\n",
    "      '\\npropotion srcport false:', fc_src/len(srcport)\n",
    ")"
   ]
  },
  {
   "cell_type": "markdown",
   "metadata": {},
   "source": [
    "Vamos descobrir a proporção de ataques em dstport e srcport para conferir se corresponde à proporção de labels e identificar se o experimento segue os padrões de ataques ou está usando maneiras novas de promover um ataque # adicionar link sobre os ataques costumam ser em portas baixas de cliente, vamos verificar as dstport."
   ]
  },
  {
   "cell_type": "code",
   "execution_count": null,
   "metadata": {
    "colab": {
     "base_uri": "https://localhost:8080/",
     "height": 201
    },
    "colab_type": "code",
    "id": "b990h8GJDzSt",
    "outputId": "5431eaa8-8eeb-46a4-df1e-5c808e5873e0"
   },
   "outputs": [],
   "source": [
    "# identifica características para melhor avaliar a credibilidade do expe como\n",
    "# a diversidade de portas dst e src usadas e como isso afeta\n",
    "\n",
    "dst_counts = df_concat['tcp.dstport'].value_counts()\n",
    "min = df_concat['tcp.dstport'].min()\n",
    "max = df_concat['tcp.dstport'].max()\n",
    "amp = max - min\n",
    "\n",
    "mean = df_concat['tcp.dstport'].mean()\n",
    "std = df_concat['tcp.dstport'].std()\n",
    "mode = df_concat['tcp.dstport'].mode()\n",
    "median = df_concat['tcp.dstport'].median()\n",
    "\n",
    "src_counts = df_concat['tcp.srcport'].value_counts()\n",
    "src_min = df_concat['tcp.srcport'].min()\n",
    "src_max = df_concat['tcp.srcport'].max()\n",
    "src_amp = src_max - src_min\n",
    "\n",
    "src_mean = df_concat['tcp.srcport'].mean()\n",
    "src_std = df_concat['tcp.srcport'].std()\n",
    "src_mode = df_concat['tcp.srcport'].mode()\n",
    "src_median = df_concat['tcp.srcport'].median()\n",
    "\n",
    "cv_srcport = src_std/src_mean\n",
    "cv_dstport = std/mean\n",
    "\n",
    "dstcounts_df = dst_counts.rename_axis('ports').reset_index(name='counts')\n",
    "\n",
    "tmp = dstcounts_df['counts'] == 1 # tmp = dstcounts_df['counts'].value_counts() == 1\n",
    "unique = tmp.value_counts()[True] # número de portas usadas só uma vez\n",
    "\n",
    "print('Max dstport value:', max, '. Min dstport value:', min,\". Amplitude:\",amp,\". Mode:\",mode,\n",
    "      \"\\nMean of dstport values:\", \"{:.2f}\".format(mean),\". Standart deviation of dstport values:\", \"{:.2f}\".format(std),\". Median: \", median,\n",
    "\n",
    "      '\\n\\nMax srcport value:', \"{:.2f}\".format(src_max), '. Min srcport value:', \"{:.2f}\".format(src_min),\". Amplitude:\",src_amp,\". Mode:\", src_mode,\n",
    "      \"\\nMean of srcport values:\", \"{:.2f}\".format(src_mean),\". Standart deviation of srcport values:\", \"{:.2f}\".format(src_std),\". Median: \", src_median,\n",
    "\n",
    "      \"\\n\\nCoefficient of Variation from dstport:\", \"{:.2f}\".format(cv_dstport),\" from srcport:\", \"{:.2f}\".format(cv_srcport),\n",
    "      \"\\nNumber of ports used just one time:\",unique)"
   ]
  },
  {
   "cell_type": "markdown",
   "metadata": {
    "colab_type": "text",
    "id": "RQIrFEGPDrdw"
   },
   "source": [
    "Tem muita porta diferente, o que indica uma variedade muito grande\n",
    "\n",
    "Observe que como estamos falando de portas e são praticamente discretas ao contrário de números como preços, a média e o desvio padrão apenas são úteis para calcular os coeficientes\n",
    "\n",
    "Poucas portas foram usadas uma só vez, é claro\n",
    "\n",
    "O que significa que o experimento tem alguma fidelidade nesse quesito pois uma rede IoT real um número certamente finito de portas sob ataque terá várias portas de cliente usadas mais de uma vez, pelo princípio da casa dos pombos"
   ]
  },
  {
   "cell_type": "markdown",
   "metadata": {},
   "source": [
    "## 2.1.3 Portas Mais e Menos Usadas"
   ]
  },
  {
   "cell_type": "code",
   "execution_count": null,
   "metadata": {
    "colab": {
     "base_uri": "https://localhost:8080/",
     "height": 823
    },
    "colab_type": "code",
    "id": "acrxcZXnTMUL",
    "outputId": "78aea71c-648f-46eb-9b86-1c08a61771b8"
   },
   "outputs": [],
   "source": [
    "# Piechart portas mais e menos usadas e qtd\n",
    "\n",
    "dstcounts_df = dst_counts.rename_axis('ports').reset_index(name='counts')\n",
    "\n",
    "piechart_ports = np.unique(dstcounts_df['counts'].value_counts().to_numpy())\n",
    "\n",
    "plt.figure(0)\n",
    "ports0 = dstcounts_df['ports'][:10]\n",
    "counts0 = dstcounts_df['counts'][:10]\n",
    "\n",
    "fig0 = plt.figure(figsize =(10, 7)) \n",
    "plt.pie(counts0, labels = ports0) \n",
    "\n",
    "plt.figure(1)\n",
    "ports1 = dstcounts_df['ports'][dstcounts_df.shape[0]-10:]\n",
    "counts1 = dstcounts_df['counts'][dstcounts_df.shape[0]-10:]\n",
    "  \n",
    "# Creating plot \n",
    "fig1 = plt.figure(figsize =(10, 7)) \n",
    "plt.pie(counts1, labels = ports1)\n",
    "\n",
    "plt.show() "
   ]
  },
  {
   "cell_type": "markdown",
   "metadata": {
    "colab_type": "text",
    "id": "DCqsSaeGZPYf"
   },
   "source": [
    "Acima temos dois gráficos mostrando a proporção da quantidade de vezes que uma porta foi usada. O gráfico acima mostra as mais usadas. A porta 1883 foi usada muitas vezes, pois é usada pelo broker para receber os dados da rede. \n",
    "\n",
    "O gráfico abaixo mostra as menos usadas. É importante notar que todas essas portas foram usadas somente uma vez, o que é improvável para um dispositivo padrão pois ele utiliza a mesma porta para continuamente mandar seus dados em tempo real. É possível que a quantidade de vezes que uma porta alta foi utilizada possa determinar comportamento anormal na rede."
   ]
  },
  {
   "cell_type": "markdown",
   "metadata": {
    "colab": {},
    "colab_type": "code",
    "id": "PUe29sUikOZf"
   },
   "source": [
    "# 2.2 Continuidade das análises"
   ]
  },
  {
   "cell_type": "markdown",
   "metadata": {},
   "source": [
    "# Chequando correlações para determinar ataques DoS"
   ]
  },
  {
   "cell_type": "markdown",
   "metadata": {},
   "source": [
    "The following analysis uses only first_dataset.csv generated by subdataset notebook ."
   ]
  },
  {
   "cell_type": "code",
   "execution_count": null,
   "metadata": {},
   "outputs": [],
   "source": [
    "df = pd.read_csv('first_dataset.csv', low_memory=False, sep=',')"
   ]
  },
  {
   "cell_type": "markdown",
   "metadata": {},
   "source": [
    "## Analisando a correlação entre o tamanho do pacote e o tempo de resposta"
   ]
  },
  {
   "cell_type": "code",
   "execution_count": null,
   "metadata": {},
   "outputs": [],
   "source": [
    "#There's exactly one value in this column that goes beyond a  float64 which is weird but is ignored, probably it's the datatype\n",
    "frame_delta = pd.to_numeric(df['frame.time_delta'], errors='coerce') \n",
    "packet_lenght = df['ipv6.plen']\n",
    "\n",
    "correlation = frame_delta.corr(packet_lenght)\n",
    "print(correlation)"
   ]
  },
  {
   "cell_type": "markdown",
   "metadata": {},
   "source": [
    "### Não existe correlação, isso se deve a fragmentação de pacotes, de acordo com a RFC8200 (https://tools.ietf.org/html/rfc8200) em jullho 2017, que padroniza o ipv6, o tamanho máximo de um pacote ipv6 é igual a MTU (maximum transmiter unit) do link de conexão, de acordo com a mesma, o minímo que uma rede ipv6 necessita de vazão de dados em um link de conexão é de 1280 bytes. O único caso em que um pacote não é fragmentado é quando ele excede o tamanho da MTU, nesse caso ele é transmitido por mais de uma MTU simultâneamente.\n",
    "\n",
    "### Aqui checamos de algum pacote pode não ser fragmentado"
   ]
  },
  {
   "cell_type": "code",
   "execution_count": null,
   "metadata": {},
   "outputs": [],
   "source": [
    "df.loc[df['ipv6.plen'] >= 1280*8]"
   ]
  },
  {
   "cell_type": "markdown",
   "metadata": {},
   "source": [
    "## Analisar correlação entre tamanho da mensagem e tempo de resposta"
   ]
  },
  {
   "cell_type": "code",
   "execution_count": null,
   "metadata": {},
   "outputs": [],
   "source": [
    "frame_delta = pd.to_numeric(df['frame.time_delta'], errors='coerce') \n",
    "mqtt_lenght = pd.to_numeric(df['mqtt.len'], errors='coerce')\n",
    "\n",
    "correlation = mqtt_lenght.corr(packet_lenght)\n",
    "print(correlation)"
   ]
  },
  {
   "cell_type": "markdown",
   "metadata": {},
   "source": [
    "### Essa correlação existe e é fácil de observar, mensagens maiores demoram mais tempo para serem processadas pelo servidor, entretanto a partir disso é possível buscar uma proporção com o tamanho da mensagem ou com o tempo de resposta e identificar se ataques de negação de serviço atingem tempos absurdos de tempo de resposta ou valores extremamente altos no tamanho da mensagem"
   ]
  },
  {
   "cell_type": "markdown",
   "metadata": {},
   "source": [
    "### Obs: Os valores do tempo de resposta são extremamente precisos em algumas tuplas, então estas foram excluidas dessas analises iniciais pois requerem um tratamento especial de dados.\n",
    "\n",
    "### Tuplas excluídas:"
   ]
  },
  {
   "cell_type": "code",
   "execution_count": null,
   "metadata": {},
   "outputs": [],
   "source": [
    "df['frame.time_delta'] = pd.to_numeric(df['frame.time_delta'], errors='coerce')\n",
    "df[df['frame.time_delta'].isnull()]"
   ]
  },
  {
   "cell_type": "code",
   "execution_count": null,
   "metadata": {},
   "outputs": [],
   "source": [
    "#670052 100 \n",
    "#95642 x\n",
    "print(str((95642*100)/670052) + \"% of the tuples were excluded in the first correlation\")"
   ]
  },
  {
   "cell_type": "code",
   "execution_count": null,
   "metadata": {
    "scrolled": true
   },
   "outputs": [],
   "source": [
    "df['mqtt.len'] = pd.to_numeric(df['mqtt.len'], errors='coerce')\n",
    "df[df['mqtt.len'].isnull()].loc[df['label'] != 'normal']"
   ]
  },
  {
   "cell_type": "code",
   "execution_count": null,
   "metadata": {},
   "outputs": [],
   "source": [
    "#670052 100 \n",
    "#322215  x\n",
    "print(str((105283*100)/670052) + \"% of the tuples were excluded in the second correlation this may or may not overlap with the loss from the first correlation which is still present\")"
   ]
  },
  {
   "cell_type": "markdown",
   "metadata": {},
   "source": [
    "## 2.2.1 Categorizando ataques MITM"
   ]
  },
  {
   "cell_type": "markdown",
   "metadata": {},
   "source": [
    "### Em uma rede normal o relacionamento padrão entre endereço IP e MAC é de 1 para 1, ou seja, um IP aponta para um MAC e um MAC é apontado por somente um IP. Entretanto, em casos de ataque MITM, o atacante se passa por um dos nós da rede, para isso ele pode tanto copiar o MAC do dispostivo que ele deseja \"escutar\" ou mudar a tabela ARP da rede para resolver seu IP para o MAC do alvo.\n",
    "\n",
    "### Aqui estamos agrupando os valores em questão para fazer uma breve análise sobre essa hipótese"
   ]
  },
  {
   "cell_type": "code",
   "execution_count": 11,
   "metadata": {
    "scrolled": true
   },
   "outputs": [
    {
     "data": {
      "text/html": [
       "<div>\n",
       "<style scoped>\n",
       "    .dataframe tbody tr th:only-of-type {\n",
       "        vertical-align: middle;\n",
       "    }\n",
       "\n",
       "    .dataframe tbody tr th {\n",
       "        vertical-align: top;\n",
       "    }\n",
       "\n",
       "    .dataframe thead th {\n",
       "        text-align: right;\n",
       "    }\n",
       "</style>\n",
       "<table border=\"1\" class=\"dataframe\">\n",
       "  <thead>\n",
       "    <tr style=\"text-align: right;\">\n",
       "      <th></th>\n",
       "      <th></th>\n",
       "      <th></th>\n",
       "      <th>frame.time_delta</th>\n",
       "    </tr>\n",
       "    <tr>\n",
       "      <th>eth.src</th>\n",
       "      <th>ipv6.src</th>\n",
       "      <th>label</th>\n",
       "      <th></th>\n",
       "    </tr>\n",
       "  </thead>\n",
       "  <tbody>\n",
       "    <tr>\n",
       "      <th rowspan=\"3\" valign=\"top\">08:00:27:e4:e6:83</th>\n",
       "      <th>fd9e:6c51:2336::1</th>\n",
       "      <th>mitm</th>\n",
       "      <td>2144</td>\n",
       "    </tr>\n",
       "    <tr>\n",
       "      <th>fe80::32b5:c2ff:fe4c:238a</th>\n",
       "      <th>mitm</th>\n",
       "      <td>1488</td>\n",
       "    </tr>\n",
       "    <tr>\n",
       "      <th>fe80::7a78:397a:82c6:761b</th>\n",
       "      <th>mitm</th>\n",
       "      <td>1560</td>\n",
       "    </tr>\n",
       "    <tr>\n",
       "      <th>2c:f4:32:19:85:be</th>\n",
       "      <th>fd9e:6c51:2336:0:2ef4:32ff:fe19:85be</th>\n",
       "      <th>normal</th>\n",
       "      <td>22975</td>\n",
       "    </tr>\n",
       "    <tr>\n",
       "      <th rowspan=\"4\" valign=\"top\">30:b5:c2:4c:23:8a</th>\n",
       "      <th rowspan=\"2\" valign=\"top\">fd9e:6c51:2336::1</th>\n",
       "      <th>mitm</th>\n",
       "      <td>6226</td>\n",
       "    </tr>\n",
       "    <tr>\n",
       "      <th>normal</th>\n",
       "      <td>1105</td>\n",
       "    </tr>\n",
       "    <tr>\n",
       "      <th rowspan=\"2\" valign=\"top\">fe80::32b5:c2ff:fe4c:238a</th>\n",
       "      <th>mitm</th>\n",
       "      <td>2704</td>\n",
       "    </tr>\n",
       "    <tr>\n",
       "      <th>normal</th>\n",
       "      <td>116</td>\n",
       "    </tr>\n",
       "    <tr>\n",
       "      <th>60:01:94:0e:87:7a</th>\n",
       "      <th>fd9e:6c51:2336:0:6201:94ff:fe0e:877a</th>\n",
       "      <th>normal</th>\n",
       "      <td>22958</td>\n",
       "    </tr>\n",
       "    <tr>\n",
       "      <th rowspan=\"2\" valign=\"top\">68:a3:c4:6e:50:12</th>\n",
       "      <th rowspan=\"2\" valign=\"top\">fd9e:6c51:2336:0:717b:e02b:9c00:d43a</th>\n",
       "      <th>enumeration</th>\n",
       "      <td>4276</td>\n",
       "    </tr>\n",
       "    <tr>\n",
       "      <th>normal</th>\n",
       "      <td>140849</td>\n",
       "    </tr>\n",
       "    <tr>\n",
       "      <th>68:c6:3a:99:40:54</th>\n",
       "      <th>fd9e:6c51:2336:0:6ac6:3aff:fe99:4054</th>\n",
       "      <th>normal</th>\n",
       "      <td>22572</td>\n",
       "    </tr>\n",
       "    <tr>\n",
       "      <th rowspan=\"5\" valign=\"top\">80:86:f2:f9:f9:4d</th>\n",
       "      <th>fd9e:6c51:2336:0:195a:4614:25ac:dd31</th>\n",
       "      <th>mitm</th>\n",
       "      <td>240</td>\n",
       "    </tr>\n",
       "    <tr>\n",
       "      <th>fd9e:6c51:2336:0:8477:491b:87c1:bd39</th>\n",
       "      <th>mitm</th>\n",
       "      <td>704</td>\n",
       "    </tr>\n",
       "    <tr>\n",
       "      <th>fd9e:6c51:2336:0:9873:f160:5832:6509</th>\n",
       "      <th>enumeration</th>\n",
       "      <td>4694</td>\n",
       "    </tr>\n",
       "    <tr>\n",
       "      <th>fe80::4056:3a9a:e497:8e7d</th>\n",
       "      <th>mitm</th>\n",
       "      <td>684</td>\n",
       "    </tr>\n",
       "    <tr>\n",
       "      <th>fe80::7a78:397a:82c6:761b</th>\n",
       "      <th>mitm</th>\n",
       "      <td>39062</td>\n",
       "    </tr>\n",
       "    <tr>\n",
       "      <th rowspan=\"2\" valign=\"top\">cc:50:e3:1c:2a:5b</th>\n",
       "      <th>fd9e:6c51:2336:0:ce50:e3ff:fe1c:2a5b</th>\n",
       "      <th>normal</th>\n",
       "      <td>21875</td>\n",
       "    </tr>\n",
       "    <tr>\n",
       "      <th>fe80::ce50:e3ff:fe1c:2a5b</th>\n",
       "      <th>normal</th>\n",
       "      <td>524</td>\n",
       "    </tr>\n",
       "    <tr>\n",
       "      <th rowspan=\"4\" valign=\"top\">cc:50:e3:1c:32:ec</th>\n",
       "      <th rowspan=\"2\" valign=\"top\">fd9e:6c51:2336:0:ce50:e3ff:fe1c:32ec</th>\n",
       "      <th>mitm</th>\n",
       "      <td>432</td>\n",
       "    </tr>\n",
       "    <tr>\n",
       "      <th>normal</th>\n",
       "      <td>22975</td>\n",
       "    </tr>\n",
       "    <tr>\n",
       "      <th rowspan=\"2\" valign=\"top\">fe80::ce50:e3ff:fe1c:32ec</th>\n",
       "      <th>mitm</th>\n",
       "      <td>816</td>\n",
       "    </tr>\n",
       "    <tr>\n",
       "      <th>normal</th>\n",
       "      <td>1</td>\n",
       "    </tr>\n",
       "    <tr>\n",
       "      <th>cc:50:e3:55:cd:91</th>\n",
       "      <th>fd9e:6c51:2336:0:ce50:e3ff:fe55:cd91</th>\n",
       "      <th>normal</th>\n",
       "      <td>24613</td>\n",
       "    </tr>\n",
       "  </tbody>\n",
       "</table>\n",
       "</div>"
      ],
      "text/plain": [
       "                                                                    frame.time_delta\n",
       "eth.src           ipv6.src                             label                        \n",
       "08:00:27:e4:e6:83 fd9e:6c51:2336::1                    mitm                     2144\n",
       "                  fe80::32b5:c2ff:fe4c:238a            mitm                     1488\n",
       "                  fe80::7a78:397a:82c6:761b            mitm                     1560\n",
       "2c:f4:32:19:85:be fd9e:6c51:2336:0:2ef4:32ff:fe19:85be normal                  22975\n",
       "30:b5:c2:4c:23:8a fd9e:6c51:2336::1                    mitm                     6226\n",
       "                                                       normal                   1105\n",
       "                  fe80::32b5:c2ff:fe4c:238a            mitm                     2704\n",
       "                                                       normal                    116\n",
       "60:01:94:0e:87:7a fd9e:6c51:2336:0:6201:94ff:fe0e:877a normal                  22958\n",
       "68:a3:c4:6e:50:12 fd9e:6c51:2336:0:717b:e02b:9c00:d43a enumeration              4276\n",
       "                                                       normal                 140849\n",
       "68:c6:3a:99:40:54 fd9e:6c51:2336:0:6ac6:3aff:fe99:4054 normal                  22572\n",
       "80:86:f2:f9:f9:4d fd9e:6c51:2336:0:195a:4614:25ac:dd31 mitm                      240\n",
       "                  fd9e:6c51:2336:0:8477:491b:87c1:bd39 mitm                      704\n",
       "                  fd9e:6c51:2336:0:9873:f160:5832:6509 enumeration              4694\n",
       "                  fe80::4056:3a9a:e497:8e7d            mitm                      684\n",
       "                  fe80::7a78:397a:82c6:761b            mitm                    39062\n",
       "cc:50:e3:1c:2a:5b fd9e:6c51:2336:0:ce50:e3ff:fe1c:2a5b normal                  21875\n",
       "                  fe80::ce50:e3ff:fe1c:2a5b            normal                    524\n",
       "cc:50:e3:1c:32:ec fd9e:6c51:2336:0:ce50:e3ff:fe1c:32ec mitm                      432\n",
       "                                                       normal                  22975\n",
       "                  fe80::ce50:e3ff:fe1c:32ec            mitm                      816\n",
       "                                                       normal                      1\n",
       "cc:50:e3:55:cd:91 fd9e:6c51:2336:0:ce50:e3ff:fe55:cd91 normal                  24613"
      ]
     },
     "execution_count": 11,
     "metadata": {},
     "output_type": "execute_result"
    }
   ],
   "source": [
    "df2.groupby(['eth.src', 'ipv6.src', 'label']).agg({'frame.time_delta': 'count'})"
   ]
  },
  {
   "cell_type": "code",
   "execution_count": 13,
   "metadata": {},
   "outputs": [
    {
     "data": {
      "text/html": [
       "<div>\n",
       "<style scoped>\n",
       "    .dataframe tbody tr th:only-of-type {\n",
       "        vertical-align: middle;\n",
       "    }\n",
       "\n",
       "    .dataframe tbody tr th {\n",
       "        vertical-align: top;\n",
       "    }\n",
       "\n",
       "    .dataframe thead th {\n",
       "        text-align: right;\n",
       "    }\n",
       "</style>\n",
       "<table border=\"1\" class=\"dataframe\">\n",
       "  <thead>\n",
       "    <tr style=\"text-align: right;\">\n",
       "      <th></th>\n",
       "      <th>eth.src</th>\n",
       "      <th>ipv6.src</th>\n",
       "      <th>label</th>\n",
       "      <th>frame.time_delta</th>\n",
       "    </tr>\n",
       "  </thead>\n",
       "  <tbody>\n",
       "    <tr>\n",
       "      <th>0</th>\n",
       "      <td>08:00:27:e4:e6:83</td>\n",
       "      <td>fd9e:6c51:2336::1</td>\n",
       "      <td>mitm</td>\n",
       "      <td>2144</td>\n",
       "    </tr>\n",
       "    <tr>\n",
       "      <th>1</th>\n",
       "      <td>08:00:27:e4:e6:83</td>\n",
       "      <td>fe80::32b5:c2ff:fe4c:238a</td>\n",
       "      <td>mitm</td>\n",
       "      <td>1488</td>\n",
       "    </tr>\n",
       "    <tr>\n",
       "      <th>2</th>\n",
       "      <td>08:00:27:e4:e6:83</td>\n",
       "      <td>fe80::7a78:397a:82c6:761b</td>\n",
       "      <td>mitm</td>\n",
       "      <td>1560</td>\n",
       "    </tr>\n",
       "    <tr>\n",
       "      <th>3</th>\n",
       "      <td>2c:f4:32:19:85:be</td>\n",
       "      <td>fd9e:6c51:2336:0:2ef4:32ff:fe19:85be</td>\n",
       "      <td>normal</td>\n",
       "      <td>22975</td>\n",
       "    </tr>\n",
       "    <tr>\n",
       "      <th>4</th>\n",
       "      <td>30:b5:c2:4c:23:8a</td>\n",
       "      <td>fd9e:6c51:2336::1</td>\n",
       "      <td>mitm</td>\n",
       "      <td>6226</td>\n",
       "    </tr>\n",
       "    <tr>\n",
       "      <th>5</th>\n",
       "      <td>30:b5:c2:4c:23:8a</td>\n",
       "      <td>fd9e:6c51:2336::1</td>\n",
       "      <td>normal</td>\n",
       "      <td>1105</td>\n",
       "    </tr>\n",
       "    <tr>\n",
       "      <th>6</th>\n",
       "      <td>30:b5:c2:4c:23:8a</td>\n",
       "      <td>fe80::32b5:c2ff:fe4c:238a</td>\n",
       "      <td>mitm</td>\n",
       "      <td>2704</td>\n",
       "    </tr>\n",
       "    <tr>\n",
       "      <th>7</th>\n",
       "      <td>30:b5:c2:4c:23:8a</td>\n",
       "      <td>fe80::32b5:c2ff:fe4c:238a</td>\n",
       "      <td>normal</td>\n",
       "      <td>116</td>\n",
       "    </tr>\n",
       "    <tr>\n",
       "      <th>8</th>\n",
       "      <td>60:01:94:0e:87:7a</td>\n",
       "      <td>fd9e:6c51:2336:0:6201:94ff:fe0e:877a</td>\n",
       "      <td>normal</td>\n",
       "      <td>22958</td>\n",
       "    </tr>\n",
       "    <tr>\n",
       "      <th>9</th>\n",
       "      <td>68:a3:c4:6e:50:12</td>\n",
       "      <td>fd9e:6c51:2336:0:717b:e02b:9c00:d43a</td>\n",
       "      <td>enumeration</td>\n",
       "      <td>4276</td>\n",
       "    </tr>\n",
       "    <tr>\n",
       "      <th>10</th>\n",
       "      <td>68:a3:c4:6e:50:12</td>\n",
       "      <td>fd9e:6c51:2336:0:717b:e02b:9c00:d43a</td>\n",
       "      <td>normal</td>\n",
       "      <td>140849</td>\n",
       "    </tr>\n",
       "    <tr>\n",
       "      <th>11</th>\n",
       "      <td>68:c6:3a:99:40:54</td>\n",
       "      <td>fd9e:6c51:2336:0:6ac6:3aff:fe99:4054</td>\n",
       "      <td>normal</td>\n",
       "      <td>22572</td>\n",
       "    </tr>\n",
       "    <tr>\n",
       "      <th>12</th>\n",
       "      <td>80:86:f2:f9:f9:4d</td>\n",
       "      <td>fd9e:6c51:2336:0:195a:4614:25ac:dd31</td>\n",
       "      <td>mitm</td>\n",
       "      <td>240</td>\n",
       "    </tr>\n",
       "    <tr>\n",
       "      <th>13</th>\n",
       "      <td>80:86:f2:f9:f9:4d</td>\n",
       "      <td>fd9e:6c51:2336:0:8477:491b:87c1:bd39</td>\n",
       "      <td>mitm</td>\n",
       "      <td>704</td>\n",
       "    </tr>\n",
       "    <tr>\n",
       "      <th>14</th>\n",
       "      <td>80:86:f2:f9:f9:4d</td>\n",
       "      <td>fd9e:6c51:2336:0:9873:f160:5832:6509</td>\n",
       "      <td>enumeration</td>\n",
       "      <td>4694</td>\n",
       "    </tr>\n",
       "    <tr>\n",
       "      <th>15</th>\n",
       "      <td>80:86:f2:f9:f9:4d</td>\n",
       "      <td>fe80::4056:3a9a:e497:8e7d</td>\n",
       "      <td>mitm</td>\n",
       "      <td>684</td>\n",
       "    </tr>\n",
       "    <tr>\n",
       "      <th>16</th>\n",
       "      <td>80:86:f2:f9:f9:4d</td>\n",
       "      <td>fe80::7a78:397a:82c6:761b</td>\n",
       "      <td>mitm</td>\n",
       "      <td>39062</td>\n",
       "    </tr>\n",
       "    <tr>\n",
       "      <th>17</th>\n",
       "      <td>cc:50:e3:1c:2a:5b</td>\n",
       "      <td>fd9e:6c51:2336:0:ce50:e3ff:fe1c:2a5b</td>\n",
       "      <td>normal</td>\n",
       "      <td>21875</td>\n",
       "    </tr>\n",
       "    <tr>\n",
       "      <th>18</th>\n",
       "      <td>cc:50:e3:1c:2a:5b</td>\n",
       "      <td>fe80::ce50:e3ff:fe1c:2a5b</td>\n",
       "      <td>normal</td>\n",
       "      <td>524</td>\n",
       "    </tr>\n",
       "    <tr>\n",
       "      <th>19</th>\n",
       "      <td>cc:50:e3:1c:32:ec</td>\n",
       "      <td>fd9e:6c51:2336:0:ce50:e3ff:fe1c:32ec</td>\n",
       "      <td>mitm</td>\n",
       "      <td>432</td>\n",
       "    </tr>\n",
       "    <tr>\n",
       "      <th>20</th>\n",
       "      <td>cc:50:e3:1c:32:ec</td>\n",
       "      <td>fd9e:6c51:2336:0:ce50:e3ff:fe1c:32ec</td>\n",
       "      <td>normal</td>\n",
       "      <td>22975</td>\n",
       "    </tr>\n",
       "    <tr>\n",
       "      <th>21</th>\n",
       "      <td>cc:50:e3:1c:32:ec</td>\n",
       "      <td>fe80::ce50:e3ff:fe1c:32ec</td>\n",
       "      <td>mitm</td>\n",
       "      <td>816</td>\n",
       "    </tr>\n",
       "    <tr>\n",
       "      <th>22</th>\n",
       "      <td>cc:50:e3:1c:32:ec</td>\n",
       "      <td>fe80::ce50:e3ff:fe1c:32ec</td>\n",
       "      <td>normal</td>\n",
       "      <td>1</td>\n",
       "    </tr>\n",
       "    <tr>\n",
       "      <th>23</th>\n",
       "      <td>cc:50:e3:55:cd:91</td>\n",
       "      <td>fd9e:6c51:2336:0:ce50:e3ff:fe55:cd91</td>\n",
       "      <td>normal</td>\n",
       "      <td>24613</td>\n",
       "    </tr>\n",
       "  </tbody>\n",
       "</table>\n",
       "</div>"
      ],
      "text/plain": [
       "              eth.src                              ipv6.src        label  \\\n",
       "0   08:00:27:e4:e6:83                     fd9e:6c51:2336::1         mitm   \n",
       "1   08:00:27:e4:e6:83             fe80::32b5:c2ff:fe4c:238a         mitm   \n",
       "2   08:00:27:e4:e6:83             fe80::7a78:397a:82c6:761b         mitm   \n",
       "3   2c:f4:32:19:85:be  fd9e:6c51:2336:0:2ef4:32ff:fe19:85be       normal   \n",
       "4   30:b5:c2:4c:23:8a                     fd9e:6c51:2336::1         mitm   \n",
       "5   30:b5:c2:4c:23:8a                     fd9e:6c51:2336::1       normal   \n",
       "6   30:b5:c2:4c:23:8a             fe80::32b5:c2ff:fe4c:238a         mitm   \n",
       "7   30:b5:c2:4c:23:8a             fe80::32b5:c2ff:fe4c:238a       normal   \n",
       "8   60:01:94:0e:87:7a  fd9e:6c51:2336:0:6201:94ff:fe0e:877a       normal   \n",
       "9   68:a3:c4:6e:50:12  fd9e:6c51:2336:0:717b:e02b:9c00:d43a  enumeration   \n",
       "10  68:a3:c4:6e:50:12  fd9e:6c51:2336:0:717b:e02b:9c00:d43a       normal   \n",
       "11  68:c6:3a:99:40:54  fd9e:6c51:2336:0:6ac6:3aff:fe99:4054       normal   \n",
       "12  80:86:f2:f9:f9:4d  fd9e:6c51:2336:0:195a:4614:25ac:dd31         mitm   \n",
       "13  80:86:f2:f9:f9:4d  fd9e:6c51:2336:0:8477:491b:87c1:bd39         mitm   \n",
       "14  80:86:f2:f9:f9:4d  fd9e:6c51:2336:0:9873:f160:5832:6509  enumeration   \n",
       "15  80:86:f2:f9:f9:4d             fe80::4056:3a9a:e497:8e7d         mitm   \n",
       "16  80:86:f2:f9:f9:4d             fe80::7a78:397a:82c6:761b         mitm   \n",
       "17  cc:50:e3:1c:2a:5b  fd9e:6c51:2336:0:ce50:e3ff:fe1c:2a5b       normal   \n",
       "18  cc:50:e3:1c:2a:5b             fe80::ce50:e3ff:fe1c:2a5b       normal   \n",
       "19  cc:50:e3:1c:32:ec  fd9e:6c51:2336:0:ce50:e3ff:fe1c:32ec         mitm   \n",
       "20  cc:50:e3:1c:32:ec  fd9e:6c51:2336:0:ce50:e3ff:fe1c:32ec       normal   \n",
       "21  cc:50:e3:1c:32:ec             fe80::ce50:e3ff:fe1c:32ec         mitm   \n",
       "22  cc:50:e3:1c:32:ec             fe80::ce50:e3ff:fe1c:32ec       normal   \n",
       "23  cc:50:e3:55:cd:91  fd9e:6c51:2336:0:ce50:e3ff:fe55:cd91       normal   \n",
       "\n",
       "    frame.time_delta  \n",
       "0               2144  \n",
       "1               1488  \n",
       "2               1560  \n",
       "3              22975  \n",
       "4               6226  \n",
       "5               1105  \n",
       "6               2704  \n",
       "7                116  \n",
       "8              22958  \n",
       "9               4276  \n",
       "10            140849  \n",
       "11             22572  \n",
       "12               240  \n",
       "13               704  \n",
       "14              4694  \n",
       "15               684  \n",
       "16             39062  \n",
       "17             21875  \n",
       "18               524  \n",
       "19               432  \n",
       "20             22975  \n",
       "21               816  \n",
       "22                 1  \n",
       "23             24613  "
      ]
     },
     "execution_count": 13,
     "metadata": {},
     "output_type": "execute_result"
    }
   ],
   "source": [
    "_11.reset_index()"
   ]
  },
  {
   "cell_type": "markdown",
   "metadata": {},
   "source": [
    "### Como pudemos observar, realmente o label MITM está relacionado com uma relação não padrão entre IP e MAC. Temos tanto mais de um IP resolvendo para o mesmo MAC quanto um IP com diferentes MACs ao longo da captura de pacotes da rede. Em todos os casos observados no gráfico, essa anomalia está associada à um ataque MITM. Então podemos investigar a detecção de tal ataque baseada nessa hipótese, também podemos treinar um algoritmo que escuta a rede durante determinado período e então com base nos pacotes escutados identifica o nó do invasor."
   ]
  }
 ],
 "metadata": {
  "colab": {
   "collapsed_sections": [],
   "name": "IoTAttacks.ipynb",
   "provenance": []
  },
  "kernelspec": {
   "display_name": "Python 3",
   "language": "python",
   "name": "python3"
  },
  "language_info": {
   "codemirror_mode": {
    "name": "ipython",
    "version": 3
   },
   "file_extension": ".py",
   "mimetype": "text/x-python",
   "name": "python",
   "nbconvert_exporter": "python",
   "pygments_lexer": "ipython3",
   "version": "3.7.4"
  }
 },
 "nbformat": 4,
 "nbformat_minor": 4
}
